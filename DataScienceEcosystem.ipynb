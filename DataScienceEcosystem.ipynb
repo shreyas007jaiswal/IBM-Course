{
 "cells": [
  {
   "cell_type": "markdown",
   "id": "9745a313-7262-4044-93e1-42768f63565f",
   "metadata": {},
   "source": [
    "# Data Science Tools and Ecosystem"
   ]
  },
  {
   "cell_type": "markdown",
   "id": "63ab8a9a-0c45-405a-bafb-10de78b856da",
   "metadata": {},
   "source": [
    "## In this notebook, Data Science Tools and Ecosystem are summarized."
   ]
  },
  {
   "cell_type": "markdown",
   "id": "ad77eac0-c44f-40cc-9903-2ff00f20123c",
   "metadata": {},
   "source": [
    "## Some of the popular languages that Data Scientists use are:\n",
    "1. Python\n",
    "2. Java\n",
    "3. R\n",
    "4. C++"
   ]
  },
  {
   "cell_type": "markdown",
   "id": "e6be585e-fd62-4d3d-a8a7-c3efa9276bb1",
   "metadata": {},
   "source": [
    "## Some of the commonly used libraries used by Data Scientists include:\n",
    "1. Pandas\n",
    "2. Numpy\n",
    "3. Matplotlib\n",
    "4. PyTorch"
   ]
  },
  {
   "cell_type": "markdown",
   "id": "025e1724-1737-4e73-9961-bef3932676d3",
   "metadata": {},
   "source": [
    "|Data Science Tools|"
   ]
  },
  {
   "cell_type": "markdown",
   "id": "56a229d7-7055-42e0-98ce-d8d9b4512ac0",
   "metadata": {},
   "source": [
    "|Data Science Tools|\n",
    "|------------------|\n",
    "|Hadoop|\n",
    "|Apache Spark|\n",
    "|RStudio|\n"
   ]
  },
  {
   "cell_type": "markdown",
   "id": "915a16d4-0d55-40bd-8ada-465ffdcc0a17",
   "metadata": {},
   "source": [
    "### Below are a few examples of evaluating arithmetic expressions in Python"
   ]
  },
  {
   "cell_type": "code",
   "execution_count": 17,
   "id": "c033366c-d1b1-4aeb-bb92-8db342eb7dbc",
   "metadata": {},
   "outputs": [
    {
     "data": {
      "text/plain": [
       "17"
      ]
     },
     "execution_count": 17,
     "metadata": {},
     "output_type": "execute_result"
    }
   ],
   "source": [
    "# This a simple arithmetic expression to mutiply then add integers\n",
    "(3*4)+5"
   ]
  },
  {
   "cell_type": "code",
   "execution_count": 19,
   "id": "9602fdd9-b79d-4876-bc0c-51ae182bbbe4",
   "metadata": {},
   "outputs": [
    {
     "data": {
      "text/plain": [
       "3.3333333333333335"
      ]
     },
     "execution_count": 19,
     "metadata": {},
     "output_type": "execute_result"
    }
   ],
   "source": [
    "# This will convert 200 minutes to hours by diving by 60\n",
    "200/60 "
   ]
  },
  {
   "cell_type": "markdown",
   "id": "4f80f2eb-24df-49b3-977f-5d4daa9e2589",
   "metadata": {},
   "source": [
    "**Objectives**\n",
    "- Popular Languages in Data Science\n",
    "- Adding and Multiplying Integers\n",
    "- Creating a markdown cell for introduction\n",
    "- Convert hours to minutes"
   ]
  },
  {
   "cell_type": "markdown",
   "id": "6fae64bb-0ea8-4af4-a262-361c283740b9",
   "metadata": {},
   "source": [
    "## Author\n",
    "Shreyas Jaiswal"
   ]
  },
  {
   "cell_type": "code",
   "execution_count": null,
   "id": "1455ae6d-211c-4d0a-8c82-1fd6ddcba30e",
   "metadata": {},
   "outputs": [],
   "source": []
  }
 ],
 "metadata": {
  "kernelspec": {
   "display_name": "Python 3 (ipykernel)",
   "language": "python",
   "name": "python3"
  },
  "language_info": {
   "codemirror_mode": {
    "name": "ipython",
    "version": 3
   },
   "file_extension": ".py",
   "mimetype": "text/x-python",
   "name": "python",
   "nbconvert_exporter": "python",
   "pygments_lexer": "ipython3",
   "version": "3.12.4"
  }
 },
 "nbformat": 4,
 "nbformat_minor": 5
}
